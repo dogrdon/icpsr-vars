{
 "cells": [
  {
   "cell_type": "markdown",
   "metadata": {},
   "source": [
    "# Recommending ICPSR datasets"
   ]
  },
  {
   "cell_type": "markdown",
   "metadata": {},
   "source": [
    "Exploring the relationships between datasets based on their available variables."
   ]
  },
  {
   "cell_type": "markdown",
   "metadata": {},
   "source": [
    "## Import Modules"
   ]
  },
  {
   "cell_type": "code",
   "execution_count": 10,
   "metadata": {},
   "outputs": [
    {
     "name": "stdout",
     "output_type": "stream",
     "text": [
      "[nltk_data] Downloading package stopwords to\n",
      "[nltk_data]     /Users/dogrdon/nltk_data...\n",
      "[nltk_data]   Package stopwords is already up-to-date!\n",
      "[nltk_data] Downloading package punkt to /Users/dogrdon/nltk_data...\n",
      "[nltk_data]   Package punkt is already up-to-date!\n",
      "spaCy Version: 2.0.18\n",
      "Number of stop words: 305\n",
      "First ten stop words: ['sometime', 'latterly', 'whoever', 'now', 'to', 'twelve', 'these', 'did', 'while', 'about']\n"
     ]
    }
   ],
   "source": [
    "import os, json, csv\n",
    "from tqdm import tqdm\n",
    "tqdm.pandas()\n",
    "import string\n",
    "import pandas as pd\n",
    "import string\n",
    "import nltk\n",
    "from nltk.corpus import stopwords\n",
    "nltk.download('stopwords')\n",
    "nltk.download('punkt')\n",
    "import numpy as np\n",
    "import spacy\n",
    "print('spaCy Version: %s' % (spacy.__version__))\n",
    "nlp = spacy.load('en')\n",
    "spacy_stopwords = spacy.lang.en.stop_words.STOP_WORDS\n",
    "\n",
    "print('Number of stop words: %d' % len(spacy_stopwords))\n",
    "print('First ten stop words: %s' % list(spacy_stopwords)[:10])"
   ]
  },
  {
   "cell_type": "markdown",
   "metadata": {},
   "source": [
    "## Loading the data"
   ]
  },
  {
   "cell_type": "code",
   "execution_count": 2,
   "metadata": {},
   "outputs": [],
   "source": [
    "studies_metadata_json = '../input_metadata/ICPSR_studies_metadata.json' # 23MB\n",
    "vars_metadata_csv = '../input_metadata/all_vars.csv'                    # 1.3GB\n",
    "doi_xwalk_csv = '../input_metadata/doi_xwalk.csv'                       # 509KB"
   ]
  },
  {
   "cell_type": "markdown",
   "metadata": {},
   "source": [
    "### Functions"
   ]
  },
  {
   "cell_type": "code",
   "execution_count": 3,
   "metadata": {},
   "outputs": [],
   "source": [
    "def get_study_url(var_url):\n",
    "    '''Get url to dataset for var'''\n",
    "    study_url= var_url.split('/datasets/')[0].replace('ssvd/', '')\n",
    "    return study_url\n",
    "\n",
    "\n",
    "def xwalk_dict(xwalk_csv):\n",
    "    '''Load xwalk csv into a native dictionary for faster lookup'''\n",
    "    xwalk_lookup = {}\n",
    "    with open( xwalk_csv, 'r', encoding='utf-8' ) as ifile:\n",
    "        reader = csv.reader(ifile)\n",
    "        header = next(reader)\n",
    "        for row in reader:\n",
    "            xwalk_lookup[row[0]] = row[1]\n",
    "    return xwalk_lookup\n",
    "\n",
    "def trim_dataset_name(dataset_name):\n",
    "    try:\n",
    "        dataset_name = dataset_name.replace(\"Taken from: \", \"\").strip()\n",
    "    except AttributeError as ae:\n",
    "        print(\"{}: {}\".format(ae, dataset_name))\n",
    "    return dataset_name\n",
    "\n",
    "def make_clean_tokens_nltk(label):\n",
    "    '''Remove punctuation, stopwords and do tokenization with NLTK'''\n",
    "    stopset = set(stopwords.words('english'))\n",
    "    table = str.maketrans('', '', string.punctuation)\n",
    "    tokens = [w.translate(table) for w in label if not w in stopset]\n",
    "    return tokens\n",
    "\n",
    "def make_clean_tokens_spacy(label):\n",
    "    '''This is mean to remove punctuation and tokenize but it takes waaay too long.'''\n",
    "    clean_label_tokens = []\n",
    "    try:\n",
    "        table = str.maketrans({key: None for key in string.punctuation})\n",
    "        # first remove punctuation\n",
    "        label_no_punc = label.translate(table) \n",
    "        # then tokenize and remove stopwords \n",
    "        doc = nlp(label_no_punc)\n",
    "        clean_label_tokens = [token.text for token in doc if not token.is_stop]\n",
    "    except AttributeError as ae:\n",
    "        print(\"{}: {}\".format(ae, label))\n",
    "    return clean_label_tokens"
   ]
  },
  {
   "cell_type": "code",
   "execution_count": 4,
   "metadata": {},
   "outputs": [],
   "source": [
    "vars_df = pd.read_csv(vars_metadata_csv)\n",
    "vars_df = vars_df.replace(np.nan, '', regex=True)"
   ]
  },
  {
   "cell_type": "code",
   "execution_count": 5,
   "metadata": {},
   "outputs": [
    {
     "data": {
      "text/html": [
       "<div>\n",
       "<style scoped>\n",
       "    .dataframe tbody tr th:only-of-type {\n",
       "        vertical-align: middle;\n",
       "    }\n",
       "\n",
       "    .dataframe tbody tr th {\n",
       "        vertical-align: top;\n",
       "    }\n",
       "\n",
       "    .dataframe thead th {\n",
       "        text-align: right;\n",
       "    }\n",
       "</style>\n",
       "<table border=\"1\" class=\"dataframe\">\n",
       "  <thead>\n",
       "    <tr style=\"text-align: right;\">\n",
       "      <th></th>\n",
       "      <th>var_id</th>\n",
       "      <th>var_name</th>\n",
       "      <th>var_url</th>\n",
       "      <th>var_label</th>\n",
       "      <th>var_dataset</th>\n",
       "    </tr>\n",
       "  </thead>\n",
       "  <tbody>\n",
       "    <tr>\n",
       "      <th>0</th>\n",
       "      <td>1</td>\n",
       "      <td>DRG7ING4</td>\n",
       "      <td>https://www.icpsr.umich.edu/icpsrweb/ICPSR/ssv...</td>\n",
       "      <td>Ingredient code #4 for medication #7</td>\n",
       "      <td>Taken from: National Hospital Ambulatory Medic...</td>\n",
       "    </tr>\n",
       "    <tr>\n",
       "      <th>1</th>\n",
       "      <td>2</td>\n",
       "      <td>DRG7ING5</td>\n",
       "      <td>https://www.icpsr.umich.edu/icpsrweb/ICPSR/ssv...</td>\n",
       "      <td>Ingredient code #5 for medication #7</td>\n",
       "      <td>Taken from: National Hospital Ambulatory Medic...</td>\n",
       "    </tr>\n",
       "    <tr>\n",
       "      <th>2</th>\n",
       "      <td>3</td>\n",
       "      <td>GEN8</td>\n",
       "      <td>https://www.icpsr.umich.edu/icpsrweb/ICPSR/ssv...</td>\n",
       "      <td>Generic name code for medication #8</td>\n",
       "      <td>Taken from: National Hospital Ambulatory Medic...</td>\n",
       "    </tr>\n",
       "    <tr>\n",
       "      <th>3</th>\n",
       "      <td>4</td>\n",
       "      <td>PRESCR8</td>\n",
       "      <td>https://www.icpsr.umich.edu/icpsrweb/ICPSR/ssv...</td>\n",
       "      <td>Prescription status code for medication #8</td>\n",
       "      <td>Taken from: National Hospital Ambulatory Medic...</td>\n",
       "    </tr>\n",
       "    <tr>\n",
       "      <th>4</th>\n",
       "      <td>5</td>\n",
       "      <td>CONTSUB8</td>\n",
       "      <td>https://www.icpsr.umich.edu/icpsrweb/ICPSR/ssv...</td>\n",
       "      <td>Controlled substance code for medication #8</td>\n",
       "      <td>Taken from: National Hospital Ambulatory Medic...</td>\n",
       "    </tr>\n",
       "  </tbody>\n",
       "</table>\n",
       "</div>"
      ],
      "text/plain": [
       "   var_id  var_name                                            var_url  \\\n",
       "0       1  DRG7ING4  https://www.icpsr.umich.edu/icpsrweb/ICPSR/ssv...   \n",
       "1       2  DRG7ING5  https://www.icpsr.umich.edu/icpsrweb/ICPSR/ssv...   \n",
       "2       3      GEN8  https://www.icpsr.umich.edu/icpsrweb/ICPSR/ssv...   \n",
       "3       4   PRESCR8  https://www.icpsr.umich.edu/icpsrweb/ICPSR/ssv...   \n",
       "4       5  CONTSUB8  https://www.icpsr.umich.edu/icpsrweb/ICPSR/ssv...   \n",
       "\n",
       "                                     var_label  \\\n",
       "0         Ingredient code #4 for medication #7   \n",
       "1         Ingredient code #5 for medication #7   \n",
       "2          Generic name code for medication #8   \n",
       "3   Prescription status code for medication #8   \n",
       "4  Controlled substance code for medication #8   \n",
       "\n",
       "                                         var_dataset  \n",
       "0  Taken from: National Hospital Ambulatory Medic...  \n",
       "1  Taken from: National Hospital Ambulatory Medic...  \n",
       "2  Taken from: National Hospital Ambulatory Medic...  \n",
       "3  Taken from: National Hospital Ambulatory Medic...  \n",
       "4  Taken from: National Hospital Ambulatory Medic...  "
      ]
     },
     "execution_count": 5,
     "metadata": {},
     "output_type": "execute_result"
    }
   ],
   "source": [
    "vars_df.head()"
   ]
  },
  {
   "cell_type": "code",
   "execution_count": 6,
   "metadata": {},
   "outputs": [
    {
     "name": "stdout",
     "output_type": "stream",
     "text": [
      "Number of records: 4960317\n",
      "Number of unique variable urls: 4960317\n",
      "Number of unique variable names: 1470415\n"
     ]
    }
   ],
   "source": [
    "print(\"Number of records: {}\".format(len(vars_df)))\n",
    "print(\"Number of unique variable urls: {}\".format(len(vars_df.var_url.unique())))\n",
    "print(\"Number of unique variable names: {}\".format(len(vars_df.var_name.unique())))"
   ]
  },
  {
   "cell_type": "code",
   "execution_count": 7,
   "metadata": {},
   "outputs": [],
   "source": [
    "vars_df['study_url'] = vars_df.progress_apply(lambda x: get_study_url(x['var_url']), axis=1)"
   ]
  },
  {
   "cell_type": "code",
   "execution_count": 8,
   "metadata": {
    "scrolled": true
   },
   "outputs": [],
   "source": [
    "vars_df['dataset_name'] = vars_df.progress_apply(lambda x: trim_dataset_name(x['var_dataset']), axis=1)"
   ]
  },
  {
   "cell_type": "code",
   "execution_count": 11,
   "metadata": {},
   "outputs": [
    {
     "name": "stderr",
     "output_type": "stream",
     "text": [
      "100%|██████████| 4960317/4960317 [36:14<00:00, 2280.88it/s] \n"
     ]
    }
   ],
   "source": [
    "vars_df['label_processed'] = vars_df.progress_apply(lambda x: make_clean_tokens_nltk(x['var_label']), axis=1)"
   ]
  },
  {
   "cell_type": "code",
   "execution_count": 12,
   "metadata": {},
   "outputs": [
    {
     "data": {
      "text/html": [
       "<div>\n",
       "<style scoped>\n",
       "    .dataframe tbody tr th:only-of-type {\n",
       "        vertical-align: middle;\n",
       "    }\n",
       "\n",
       "    .dataframe tbody tr th {\n",
       "        vertical-align: top;\n",
       "    }\n",
       "\n",
       "    .dataframe thead th {\n",
       "        text-align: right;\n",
       "    }\n",
       "</style>\n",
       "<table border=\"1\" class=\"dataframe\">\n",
       "  <thead>\n",
       "    <tr style=\"text-align: right;\">\n",
       "      <th></th>\n",
       "      <th>var_id</th>\n",
       "      <th>var_name</th>\n",
       "      <th>var_url</th>\n",
       "      <th>var_label</th>\n",
       "      <th>var_dataset</th>\n",
       "      <th>study_url</th>\n",
       "      <th>dataset_name</th>\n",
       "      <th>label_processed</th>\n",
       "    </tr>\n",
       "  </thead>\n",
       "  <tbody>\n",
       "    <tr>\n",
       "      <th>0</th>\n",
       "      <td>1</td>\n",
       "      <td>DRG7ING4</td>\n",
       "      <td>https://www.icpsr.umich.edu/icpsrweb/ICPSR/ssv...</td>\n",
       "      <td>Ingredient code #4 for medication #7</td>\n",
       "      <td>Taken from: National Hospital Ambulatory Medic...</td>\n",
       "      <td>https://www.icpsr.umich.edu/icpsrweb/ICPSR/stu...</td>\n",
       "      <td>National Hospital Ambulatory Medical Care Surv...</td>\n",
       "      <td>[I, n, g, r, e, e, n,  , c, e,  , , 4,  , f, r...</td>\n",
       "    </tr>\n",
       "    <tr>\n",
       "      <th>1</th>\n",
       "      <td>2</td>\n",
       "      <td>DRG7ING5</td>\n",
       "      <td>https://www.icpsr.umich.edu/icpsrweb/ICPSR/ssv...</td>\n",
       "      <td>Ingredient code #5 for medication #7</td>\n",
       "      <td>Taken from: National Hospital Ambulatory Medic...</td>\n",
       "      <td>https://www.icpsr.umich.edu/icpsrweb/ICPSR/stu...</td>\n",
       "      <td>National Hospital Ambulatory Medical Care Surv...</td>\n",
       "      <td>[I, n, g, r, e, e, n,  , c, e,  , , 5,  , f, r...</td>\n",
       "    </tr>\n",
       "    <tr>\n",
       "      <th>2</th>\n",
       "      <td>3</td>\n",
       "      <td>GEN8</td>\n",
       "      <td>https://www.icpsr.umich.edu/icpsrweb/ICPSR/ssv...</td>\n",
       "      <td>Generic name code for medication #8</td>\n",
       "      <td>Taken from: National Hospital Ambulatory Medic...</td>\n",
       "      <td>https://www.icpsr.umich.edu/icpsrweb/ICPSR/stu...</td>\n",
       "      <td>National Hospital Ambulatory Medical Care Surv...</td>\n",
       "      <td>[G, e, n, e, r, c,  , n, e,  , c, e,  , f, r, ...</td>\n",
       "    </tr>\n",
       "    <tr>\n",
       "      <th>3</th>\n",
       "      <td>4</td>\n",
       "      <td>PRESCR8</td>\n",
       "      <td>https://www.icpsr.umich.edu/icpsrweb/ICPSR/ssv...</td>\n",
       "      <td>Prescription status code for medication #8</td>\n",
       "      <td>Taken from: National Hospital Ambulatory Medic...</td>\n",
       "      <td>https://www.icpsr.umich.edu/icpsrweb/ICPSR/stu...</td>\n",
       "      <td>National Hospital Ambulatory Medical Care Surv...</td>\n",
       "      <td>[P, r, e, c, r, p, n,  , u,  , c, e,  , f, r, ...</td>\n",
       "    </tr>\n",
       "    <tr>\n",
       "      <th>4</th>\n",
       "      <td>5</td>\n",
       "      <td>CONTSUB8</td>\n",
       "      <td>https://www.icpsr.umich.edu/icpsrweb/ICPSR/ssv...</td>\n",
       "      <td>Controlled substance code for medication #8</td>\n",
       "      <td>Taken from: National Hospital Ambulatory Medic...</td>\n",
       "      <td>https://www.icpsr.umich.edu/icpsrweb/ICPSR/stu...</td>\n",
       "      <td>National Hospital Ambulatory Medical Care Surv...</td>\n",
       "      <td>[C, n, r, l, l, e,  , u, b, n, c, e,  , c, e, ...</td>\n",
       "    </tr>\n",
       "  </tbody>\n",
       "</table>\n",
       "</div>"
      ],
      "text/plain": [
       "   var_id  var_name                                            var_url  \\\n",
       "0       1  DRG7ING4  https://www.icpsr.umich.edu/icpsrweb/ICPSR/ssv...   \n",
       "1       2  DRG7ING5  https://www.icpsr.umich.edu/icpsrweb/ICPSR/ssv...   \n",
       "2       3      GEN8  https://www.icpsr.umich.edu/icpsrweb/ICPSR/ssv...   \n",
       "3       4   PRESCR8  https://www.icpsr.umich.edu/icpsrweb/ICPSR/ssv...   \n",
       "4       5  CONTSUB8  https://www.icpsr.umich.edu/icpsrweb/ICPSR/ssv...   \n",
       "\n",
       "                                     var_label  \\\n",
       "0         Ingredient code #4 for medication #7   \n",
       "1         Ingredient code #5 for medication #7   \n",
       "2          Generic name code for medication #8   \n",
       "3   Prescription status code for medication #8   \n",
       "4  Controlled substance code for medication #8   \n",
       "\n",
       "                                         var_dataset  \\\n",
       "0  Taken from: National Hospital Ambulatory Medic...   \n",
       "1  Taken from: National Hospital Ambulatory Medic...   \n",
       "2  Taken from: National Hospital Ambulatory Medic...   \n",
       "3  Taken from: National Hospital Ambulatory Medic...   \n",
       "4  Taken from: National Hospital Ambulatory Medic...   \n",
       "\n",
       "                                           study_url  \\\n",
       "0  https://www.icpsr.umich.edu/icpsrweb/ICPSR/stu...   \n",
       "1  https://www.icpsr.umich.edu/icpsrweb/ICPSR/stu...   \n",
       "2  https://www.icpsr.umich.edu/icpsrweb/ICPSR/stu...   \n",
       "3  https://www.icpsr.umich.edu/icpsrweb/ICPSR/stu...   \n",
       "4  https://www.icpsr.umich.edu/icpsrweb/ICPSR/stu...   \n",
       "\n",
       "                                        dataset_name  \\\n",
       "0  National Hospital Ambulatory Medical Care Surv...   \n",
       "1  National Hospital Ambulatory Medical Care Surv...   \n",
       "2  National Hospital Ambulatory Medical Care Surv...   \n",
       "3  National Hospital Ambulatory Medical Care Surv...   \n",
       "4  National Hospital Ambulatory Medical Care Surv...   \n",
       "\n",
       "                                     label_processed  \n",
       "0  [I, n, g, r, e, e, n,  , c, e,  , , 4,  , f, r...  \n",
       "1  [I, n, g, r, e, e, n,  , c, e,  , , 5,  , f, r...  \n",
       "2  [G, e, n, e, r, c,  , n, e,  , c, e,  , f, r, ...  \n",
       "3  [P, r, e, c, r, p, n,  , u,  , c, e,  , f, r, ...  \n",
       "4  [C, n, r, l, l, e,  , u, b, n, c, e,  , c, e, ...  "
      ]
     },
     "execution_count": 12,
     "metadata": {},
     "output_type": "execute_result"
    }
   ],
   "source": [
    "vars_df.head()"
   ]
  },
  {
   "cell_type": "markdown",
   "metadata": {},
   "source": [
    "#### Load xwalk dictionary"
   ]
  },
  {
   "cell_type": "code",
   "execution_count": null,
   "metadata": {},
   "outputs": [],
   "source": [
    "xwalk_dict = xwalk_dict(doi_xwalk_csv)"
   ]
  },
  {
   "cell_type": "code",
   "execution_count": null,
   "metadata": {},
   "outputs": [],
   "source": [
    "xwalk_dict"
   ]
  },
  {
   "cell_type": "code",
   "execution_count": null,
   "metadata": {},
   "outputs": [],
   "source": [
    "list(vars_df.study_url.head())"
   ]
  },
  {
   "cell_type": "markdown",
   "metadata": {},
   "source": [
    "## Explore the data"
   ]
  },
  {
   "cell_type": "markdown",
   "metadata": {},
   "source": [
    "Rough exploration of variables related to datasets (studies)"
   ]
  },
  {
   "cell_type": "code",
   "execution_count": null,
   "metadata": {},
   "outputs": [],
   "source": [
    "datasets_df = pd.read_json(studies_metadata_json)"
   ]
  },
  {
   "cell_type": "code",
   "execution_count": null,
   "metadata": {},
   "outputs": [],
   "source": [
    "datasets_df.head()"
   ]
  },
  {
   "cell_type": "markdown",
   "metadata": {},
   "source": [
    "## Approaches To Determining Similarity between datasets"
   ]
  },
  {
   "cell_type": "markdown",
   "metadata": {},
   "source": [
    "1.**TF-IDF vectors**"
   ]
  },
  {
   "cell_type": "code",
   "execution_count": null,
   "metadata": {},
   "outputs": [],
   "source": [
    "from sklearn.feature_extraction.text import TfidfVectorizer\n",
    "from sklearn.metrics.pairwise import cosine_similarity\n",
    "from sklearn.metrics.pairwise import linear_kernel #from https://stackoverflow.com/questions/12118720/python-tf-idf-cosine-to-find-document-similarity\n",
    "import numpy as np"
   ]
  },
  {
   "cell_type": "code",
   "execution_count": null,
   "metadata": {},
   "outputs": [],
   "source": [
    "documents = vars_df[['study_url','dataset_name', 'var_name', 'var_label']]"
   ]
  },
  {
   "cell_type": "code",
   "execution_count": null,
   "metadata": {},
   "outputs": [],
   "source": [
    "documents.head()"
   ]
  },
  {
   "cell_type": "markdown",
   "metadata": {},
   "source": [
    "We are only going to develop a vector space composed of dataset variable descriptions."
   ]
  },
  {
   "cell_type": "code",
   "execution_count": null,
   "metadata": {},
   "outputs": [],
   "source": [
    "tfidf_vec = TfidfVectorizer()"
   ]
  },
  {
   "cell_type": "code",
   "execution_count": null,
   "metadata": {},
   "outputs": [],
   "source": [
    "descriptions = documents['var_label']"
   ]
  },
  {
   "cell_type": "code",
   "execution_count": null,
   "metadata": {},
   "outputs": [],
   "source": [
    "descriptions = descriptions.fillna('')"
   ]
  },
  {
   "cell_type": "code",
   "execution_count": null,
   "metadata": {},
   "outputs": [],
   "source": [
    "descriptions_list = list(descriptions)"
   ]
  },
  {
   "cell_type": "code",
   "execution_count": null,
   "metadata": {},
   "outputs": [],
   "source": [
    "tfidf_matrix = tfidf_vec.fit_transform(descriptions_list)"
   ]
  },
  {
   "cell_type": "code",
   "execution_count": null,
   "metadata": {},
   "outputs": [],
   "source": [
    "print(tfidf_matrix.shape)"
   ]
  },
  {
   "cell_type": "markdown",
   "metadata": {},
   "source": [
    "2. **Select a random document by index**"
   ]
  },
  {
   "cell_type": "code",
   "execution_count": null,
   "metadata": {},
   "outputs": [],
   "source": [
    "DOCUMENT_TARGET = 4488\n",
    "#documents.iloc[ DOCUMENT_TARGET , : ]"
   ]
  },
  {
   "cell_type": "code",
   "execution_count": null,
   "metadata": {},
   "outputs": [],
   "source": [
    "#sample = list(documents.iloc[ DOCUMENT_TARGET , : ])"
   ]
  },
  {
   "cell_type": "code",
   "execution_count": null,
   "metadata": {},
   "outputs": [],
   "source": [
    "documents_list = documents.values.tolist()\n",
    "sample = documents_list[DOCUMENT_TARGET]"
   ]
  },
  {
   "cell_type": "code",
   "execution_count": null,
   "metadata": {},
   "outputs": [],
   "source": [
    "sample"
   ]
  },
  {
   "cell_type": "code",
   "execution_count": null,
   "metadata": {},
   "outputs": [],
   "source": [
    "cos_sim = linear_kernel(tfidf_matrix[DOCUMENT_TARGET], tfidf_matrix).flatten()"
   ]
  },
  {
   "cell_type": "code",
   "execution_count": null,
   "metadata": {},
   "outputs": [],
   "source": [
    "filt_vars = np.asarray([x for x in cos_sim.tolist() if x > 0.10 and x < 0.9999], dtype=np.float32)"
   ]
  },
  {
   "cell_type": "code",
   "execution_count": null,
   "metadata": {},
   "outputs": [],
   "source": [
    "related_vars = cos_sim.argsort()[:-25:-1]"
   ]
  },
  {
   "cell_type": "code",
   "execution_count": null,
   "metadata": {},
   "outputs": [],
   "source": [
    "related_vars"
   ]
  },
  {
   "cell_type": "code",
   "execution_count": null,
   "metadata": {},
   "outputs": [],
   "source": [
    "for i in related_vars:\n",
    "    print(cos_sim[i])"
   ]
  },
  {
   "cell_type": "code",
   "execution_count": null,
   "metadata": {},
   "outputs": [],
   "source": [
    "print(\"Most similar to: {}\".format(documents_list[DOCUMENT_TARGET]))\n",
    "column_id = documents_list[DOCUMENT_TARGET][0]\n",
    "for i in related_vars:\n",
    "    # remove any results where the variable is in the same dataset\n",
    "    # and remove any scores that are above 0.90 (as they are probably the same variable)\n",
    "    if cos_sim[i] < 0.90 and column_id != documents_list[i][0]:\n",
    "        print(\"score: {} \\n Document: {}\".format(cos_sim[i], documents_list[i]))"
   ]
  },
  {
   "cell_type": "markdown",
   "metadata": {},
   "source": [
    "These results aren't great. Appears that something like 1000 is what is making the relationship. We may need additional text such as the dataset description. We probably also want to do some basic text processing to the descriptions first (remove stopwords, lemmatize/stem, remove unecessary characters (`#`, `$`, etc.)."
   ]
  },
  {
   "cell_type": "markdown",
   "metadata": {},
   "source": [
    "### To try: SpaCy (https://spacy.io/usage/vectors-similarity)"
   ]
  },
  {
   "cell_type": "code",
   "execution_count": null,
   "metadata": {},
   "outputs": [],
   "source": [
    "doc = nlp(\"This is my sentence where i am talking about the thing that thing that's being descussed. Or: you know! 123# $100.00()\")\n",
    "tokens = [token.text for token in doc if not token.is_stop]\n",
    "\n",
    "print(tokens)"
   ]
  },
  {
   "cell_type": "code",
   "execution_count": null,
   "metadata": {},
   "outputs": [],
   "source": [
    "def my_component(doc):\n",
    "    print(\"After tokenization, this doc has %s tokens.\" % len(doc))\n",
    "    if len(doc) < 10:\n",
    "        print(\"This is a pretty short document.\")\n",
    "    return doc\n",
    "\n",
    "nlp.add_pipe(my_component, name='print_info', first=True)\n",
    "print(nlp.pipe_names) # ['print_info', 'tagger', 'parser', 'ner']\n",
    "doc = nlp(u\"This is a sentence.\")"
   ]
  }
 ],
 "metadata": {
  "kernelspec": {
   "display_name": "Python 3",
   "language": "python",
   "name": "python3"
  },
  "language_info": {
   "codemirror_mode": {
    "name": "ipython",
    "version": 3
   },
   "file_extension": ".py",
   "mimetype": "text/x-python",
   "name": "python",
   "nbconvert_exporter": "python",
   "pygments_lexer": "ipython3",
   "version": "3.7.0"
  },
  "toc": {
   "nav_menu": {},
   "number_sections": true,
   "sideBar": true,
   "skip_h1_title": false,
   "title_cell": "Table of Contents",
   "title_sidebar": "Contents",
   "toc_cell": false,
   "toc_position": {},
   "toc_section_display": true,
   "toc_window_display": false
  }
 },
 "nbformat": 4,
 "nbformat_minor": 2
}
